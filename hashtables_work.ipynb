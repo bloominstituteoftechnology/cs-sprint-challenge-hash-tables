{
 "cells": [
  {
   "cell_type": "markdown",
   "metadata": {},
   "source": [
    "# Ex 1"
   ]
  },
  {
   "cell_type": "code",
   "execution_count": 3,
   "metadata": {},
   "outputs": [],
   "source": [
    "def get_indices_of_item_weights(weights, length, limit):\n",
    "    \"\"\"\n",
    "    YOUR CODE HERE\n",
    "    \"\"\"\n",
    "    cache = {}\n",
    "\n",
    "    # base case of insufficient weights\n",
    "    if length < 2:\n",
    "            return None\n",
    "\n",
    "    # case of finding weights\n",
    "    # create a hashtable of weights and index positions\n",
    "    for i in range(length):\n",
    "        cache[weights[i]] = i\n",
    "    \n",
    "    # with hashtable complete, let's find potential pairs of weights\n",
    "    # by assessing each weight's target_weight and checking hashtable for it\n",
    "    for index, weight in enumerate(weights):\n",
    "        target_weight = limit - weight # here we compute the target_weight \n",
    "        \n",
    "        if target_weight in cache:\n",
    "            \n",
    "            target_index = cache[target_weight] # check if such weight exists\n",
    "            return (index, target_index) if index > target_index else (target_index, index)\n",
    "    return None\n"
   ]
  },
  {
   "cell_type": "code",
   "execution_count": 2,
   "metadata": {},
   "outputs": [
    {
     "name": "stdout",
     "output_type": "stream",
     "text": [
      "17 4 0\n"
     ]
    },
    {
     "ename": "KeyError",
     "evalue": "17",
     "output_type": "error",
     "traceback": [
      "\u001b[0;31m---------------------------------------------------------------------------\u001b[0m",
      "\u001b[0;31mKeyError\u001b[0m                                  Traceback (most recent call last)",
      "\u001b[0;32m<ipython-input-2-31abd12da87c>\u001b[0m in \u001b[0;36m<module>\u001b[0;34m\u001b[0m\n\u001b[1;32m      9\u001b[0m         \u001b[0mtarget_weight\u001b[0m \u001b[0;34m=\u001b[0m \u001b[0mlimit\u001b[0m \u001b[0;34m-\u001b[0m \u001b[0mweight\u001b[0m \u001b[0;31m# here we compute the target_weight\u001b[0m\u001b[0;34m\u001b[0m\u001b[0;34m\u001b[0m\u001b[0m\n\u001b[1;32m     10\u001b[0m         \u001b[0mprint\u001b[0m\u001b[0;34m(\u001b[0m\u001b[0mtarget_weight\u001b[0m\u001b[0;34m,\u001b[0m \u001b[0mweight\u001b[0m\u001b[0;34m,\u001b[0m \u001b[0mindex\u001b[0m\u001b[0;34m)\u001b[0m\u001b[0;34m\u001b[0m\u001b[0;34m\u001b[0m\u001b[0m\n\u001b[0;32m---> 11\u001b[0;31m         \u001b[0mtarget_index\u001b[0m \u001b[0;34m=\u001b[0m \u001b[0mcache\u001b[0m\u001b[0;34m[\u001b[0m\u001b[0mtarget_weight\u001b[0m\u001b[0;34m]\u001b[0m \u001b[0;31m# check if such weight exists\u001b[0m\u001b[0;34m\u001b[0m\u001b[0;34m\u001b[0m\u001b[0m\n\u001b[0m\u001b[1;32m     12\u001b[0m \u001b[0;34m\u001b[0m\u001b[0m\n",
      "\u001b[0;31mKeyError\u001b[0m: 17"
     ]
    }
   ],
   "source": [
    "cache = {}\n",
    "length = 5\n",
    "limit = 21\n",
    "weights = [4, 6, 10, 15, 16]\n",
    "for i in range(length):\n",
    "    cache[weights[i]] = i\n",
    "\n",
    "for index, weight in enumerate(weights):\n",
    "        target_weight = limit - weight # here we compute the target_weight \n",
    "        print(target_weight, weight, index)\n",
    "        target_index = cache[target_weight] # check if such weight exists\n",
    "        "
   ]
  },
  {
   "cell_type": "markdown",
   "metadata": {},
   "source": [
    "# Ex 2"
   ]
  },
  {
   "cell_type": "code",
   "execution_count": 21,
   "metadata": {},
   "outputs": [],
   "source": [
    "#  Hint:  You may not need all of these.  Remove the unused functions.\n",
    "class Ticket:\n",
    "    def __init__(self, source, destination):\n",
    "        self.source = source\n",
    "        self.destination = destination\n",
    "\n",
    "\n",
    "def reconstruct_trip(tickets, length):\n",
    "    \"\"\"\n",
    "    YOUR CODE HERE\n",
    "    \"\"\"\n",
    "    cache = {}\n",
    "    \n",
    "    for ticket in tickets:\n",
    "        cache[ticket.source] = ticket.destination\n",
    "    print(cache.items())\n",
    "    route = []\n",
    "    route.append(cache[\"NONE\"])\n",
    "    print(route)\n",
    "    searching = True\n",
    "    while searching is True:\n",
    "        for ticket in tickets:\n",
    "            _next = route[-1]\n",
    "            route.append(cache[_next])\n",
    "            if route[-1] == \"NONE\":\n",
    "                searching = False\n",
    "                return route\n"
   ]
  },
  {
   "cell_type": "code",
   "execution_count": 22,
   "metadata": {},
   "outputs": [
    {
     "name": "stdout",
     "output_type": "stream",
     "text": [
      "dict_items([('NONE', 'PDX'), ('PDX', 'DCA'), ('DCA', 'NONE')])\n",
      "['PDX']\n"
     ]
    },
    {
     "data": {
      "text/plain": [
       "['PDX', 'DCA', 'NONE']"
      ]
     },
     "execution_count": 22,
     "metadata": {},
     "output_type": "execute_result"
    }
   ],
   "source": [
    "ticket_1 = Ticket(\"NONE\", \"PDX\")\n",
    "ticket_2 = Ticket(\"PDX\", \"DCA\")\n",
    "ticket_3 = Ticket(\"DCA\", \"NONE\")\n",
    "\n",
    "tickets = [ticket_1, ticket_2, ticket_3]\n",
    "\n",
    "expected = [\"PDX\", \"DCA\", \"NONE\"]\n",
    "reconstruct_trip(tickets, 3)"
   ]
  },
  {
   "cell_type": "code",
   "execution_count": 23,
   "metadata": {},
   "outputs": [
    {
     "name": "stdout",
     "output_type": "stream",
     "text": [
      "dict_items([('NONE', 'PDX'), ('PDX', 'DCA'), ('DCA', 'NONE')])\n",
      "['PDX']\n"
     ]
    },
    {
     "data": {
      "text/plain": [
       "['PDX', 'DCA', 'NONE']"
      ]
     },
     "execution_count": 23,
     "metadata": {},
     "output_type": "execute_result"
    }
   ],
   "source": [
    "reconstruct_trip(tickets, 3)"
   ]
  },
  {
   "cell_type": "code",
   "execution_count": null,
   "metadata": {},
   "outputs": [],
   "source": []
  },
  {
   "cell_type": "code",
   "execution_count": null,
   "metadata": {},
   "outputs": [],
   "source": []
  }
 ],
 "metadata": {
  "kernelspec": {
   "display_name": "scratch",
   "language": "python",
   "name": "scratch"
  },
  "language_info": {
   "codemirror_mode": {
    "name": "ipython",
    "version": 3
   },
   "file_extension": ".py",
   "mimetype": "text/x-python",
   "name": "python",
   "nbconvert_exporter": "python",
   "pygments_lexer": "ipython3",
   "version": "3.7.7"
  }
 },
 "nbformat": 4,
 "nbformat_minor": 4
}
